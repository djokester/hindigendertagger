{
 "cells": [
  {
   "cell_type": "markdown",
   "metadata": {},
   "source": [
    "Run the LSTM training network for four different optimizers, five different dropouts and four layer sizes using powershell to redirect all output to a file"
   ]
  },
  {
   "cell_type": "code",
   "execution_count": null,
   "metadata": {},
   "outputs": [],
   "source": [
    "!powershell \"python lstm.py | tee out.txt\""
   ]
  },
  {
   "cell_type": "markdown",
   "metadata": {},
   "source": [
    "Parse the output file and create a csv"
   ]
  },
  {
   "cell_type": "code",
   "execution_count": 60,
   "metadata": {},
   "outputs": [],
   "source": [
    "final_result = []\n",
    "content = []\n",
    "#format = [loss,optimizer,lstm_len,dropoff,train_accuracy,validation_accuracy,test_accuracy]\n",
    "with open('out.txt', 'rb') as file:\n",
    "    content = file.readlines()\n",
    "content = [str(x.decode('utf-8').strip()) for x in content] \n",
    "\n"
   ]
  },
  {
   "cell_type": "code",
   "execution_count": 61,
   "metadata": {},
   "outputs": [],
   "source": [
    "current_result = ['loss','optimizer','lstm_len','dropout','train_accuracy','validation_accuracy','test_accuracy']\n",
    "next_look = False\n",
    "for line in content:\n",
    "    #print(line)\n",
    "    if  'Training new model' in line:\n",
    "        final_result.append(current_result)\n",
    "        current_result = []\n",
    "        t = line.split(',')\n",
    "        l = t[1].split(':')[1]        \n",
    "        o = t[2].split('=')[1]       \n",
    "        llen = t[3].split('=')[1]       \n",
    "        d = t[4].split('=')[1]\n",
    "        current_result.extend([l,o,llen,d])\n",
    "    if next_look:\n",
    "        t = line.split('-')\n",
    "        t_acc = t[3].split(':')[1][2:-1]\n",
    "        v_acc = t[5].split(':')[1][2:]\n",
    "        current_result.extend([t_acc,v_acc])\n",
    "        next_look = False\n",
    "    if '10/10' in line:\n",
    "        next_look = True\n",
    "    if 'test score' in line:\n",
    "        t = line.split(':')\n",
    "        acc = t[1].split(',')[1][1:-2]\n",
    "        current_result.append(acc)"
   ]
  },
  {
   "cell_type": "code",
   "execution_count": 62,
   "metadata": {},
   "outputs": [],
   "source": [
    "final_result.append(current_result)"
   ]
  },
  {
   "cell_type": "markdown",
   "metadata": {},
   "source": [
    "Write out the details as csv "
   ]
  },
  {
   "cell_type": "code",
   "execution_count": 64,
   "metadata": {},
   "outputs": [],
   "source": [
    "with open('lstm.csv', 'wb') as file:\n",
    "    for res in final_result:\n",
    "        line = ''\n",
    "        for it in res:\n",
    "            line = line + it +\",\"\n",
    "        line = line[:-1]\n",
    "        line = line +'\\n'\n",
    "        file.write(line.encode('utf-8'))"
   ]
  },
  {
   "cell_type": "code",
   "execution_count": null,
   "metadata": {},
   "outputs": [],
   "source": []
  }
 ],
 "metadata": {
  "kernelspec": {
   "display_name": "Python 3",
   "language": "python",
   "name": "python3"
  },
  "language_info": {
   "codemirror_mode": {
    "name": "ipython",
    "version": 3
   },
   "file_extension": ".py",
   "mimetype": "text/x-python",
   "name": "python",
   "nbconvert_exporter": "python",
   "pygments_lexer": "ipython3",
   "version": "3.6.5"
  }
 },
 "nbformat": 4,
 "nbformat_minor": 2
}
