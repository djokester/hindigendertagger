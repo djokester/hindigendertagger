{
 "cells": [
  {
   "cell_type": "code",
   "execution_count": 1,
   "metadata": {},
   "outputs": [
    {
     "name": "stderr",
     "output_type": "stream",
     "text": [
      "C:\\ProgramData\\Anaconda3\\lib\\site-packages\\h5py\\__init__.py:36: FutureWarning: Conversion of the second argument of issubdtype from `float` to `np.floating` is deprecated. In future, it will be treated as `np.float64 == np.dtype(float).type`.\n",
      "  from ._conv import register_converters as _register_converters\n",
      "Using TensorFlow backend.\n"
     ]
    }
   ],
   "source": [
    "from keras.models import Sequential\n",
    "from keras.layers import Dense, Dropout\n",
    "from keras.layers import Embedding\n",
    "from keras.layers import Conv1D, GlobalAveragePooling1D, MaxPooling1D\n",
    "from keras.layers import Dense, Conv2D, Flatten\n",
    "from sklearn.feature_extraction.text import TfidfVectorizer\n",
    "import numpy as np\n",
    "import lingatagger.genderlist as gndrlist\n",
    "import lingatagger.tokenizer as tok\n",
    "from lingatagger.tagger import *\n",
    "import re\n",
    "import heapq\n"
   ]
  },
  {
   "cell_type": "code",
   "execution_count": 31,
   "metadata": {},
   "outputs": [],
   "source": [
    "from scipy.sparse import *"
   ]
  },
  {
   "cell_type": "code",
   "execution_count": 2,
   "metadata": {},
   "outputs": [],
   "source": [
    "def encodex(text):\n",
    "    s = list(text)\n",
    "    a = list(set(list(\"ऀँंःऄअआइईउऊऋऌऍऎएऐऑऒओऔकखगघङचछजझञटठडढणतथदधनऩपफबभमयरऱलळऴवशषसहऺऻ़ऽािीुूृॄॅॆेैॉॊोौ्ॎॏॐ॒॑॓॔ॕॖॗक़ख़ग़ज़ड़ढ़फ़य़ॠॡॢॣ।॥॰ॱॲॳॴॵॶॷॸॹॺॻॼॽॾॿ-\")))\n",
    "    indices = []\n",
    "    for i in s:\n",
    "        indices.append(a.index(i))\n",
    "    encoded = np.zeros([len(a)], dtype=\"int\")\n",
    "    #print(len(a)+1)\n",
    "    k = 0\n",
    "    for i in indices:\n",
    "        encoded[i]+=1\n",
    "        k = k + 1\n",
    "    return encoded\n",
    "\n"
   ]
  },
  {
   "cell_type": "code",
   "execution_count": 3,
   "metadata": {},
   "outputs": [],
   "source": [
    "def encodex(text):\n",
    "    s = list(text)\n",
    "    a = list(set(list(\"ऀँंःऄअआइईउऊऋऌऍऎएऐऑऒओऔकखगघङचछजझञटठडढणतथदधनऩपफबभमयरऱलळऴवशषसहऺऻ़ऽािीुूृॄॅॆेैॉॊोौ्ॎॏॐ॒॑॓॔ॕॖॗक़ख़ग़ज़ड़ढ़फ़य़ॠॡॢॣ।॥॰ॱॲॳॴॵॶॷॸॹॺॻॼॽॾॿ-\")))\n",
    "    indices = []\n",
    "    for i in s:\n",
    "        indices.append(a.index(i))\n",
    "    encoded = np.zeros([len(a)], dtype=\"int\")\n",
    "    #print(len(a)+1)\n",
    "    k = 0\n",
    "    for i in indices:\n",
    "        encoded[i]+=1\n",
    "        k = k + 1\n",
    "    return encoded\n",
    "\n"
   ]
  },
  {
   "cell_type": "code",
   "execution_count": 50,
   "metadata": {},
   "outputs": [],
   "source": [
    "genders = gndrlist.drawlist()\n",
    "lst = []\n",
    "corpus = []\n",
    "a = list(set(list(\"ऀँंःऄअआइईउऊऋऌऍऎएऐऑऒओऔकखगघङचछजझञटठडढणतथदधनऩपफबभमयरऱलळऴवशषसहऺऻ़ऽािीुूृॄॅॆेैॉॊोौ्ॎॏॐ॒॑॓॔ॕॖॗक़ख़ग़ज़ड़ढ़फ़य़ॠॡॢॣ।॥॰ॱॲॳॴॵॶॷॸॹॺॻॼॽॾॿ-\")))\n",
    "for i in genders:\n",
    "    x = i.split(\"\\t\")\n",
    "    if type(numericTagger(x[0])[0]) != tuple:\n",
    "        lst.append(x)   "
   ]
  },
  {
   "cell_type": "code",
   "execution_count": 51,
   "metadata": {},
   "outputs": [],
   "source": [
    "y = []\n",
    "\n",
    "for i in lst:\n",
    "\tcount = 0\n",
    "\tfor ch in list(i[0]):\n",
    "\t\tif ch not in a:\n",
    "\t\t\tcount+=1\n",
    "\tif count == 0:\n",
    "\t\tcorpus.append(i[0])\n",
    "\t\ty.append(encodey(i[1]))\n"
   ]
  },
  {
   "cell_type": "code",
   "execution_count": 60,
   "metadata": {},
   "outputs": [],
   "source": [
    "from sklearn.feature_extraction.text import CountVectorizer\n"
   ]
  },
  {
   "cell_type": "code",
   "execution_count": 61,
   "metadata": {},
   "outputs": [],
   "source": [
    "vectorizer = CountVectorizer(analyzer='char')\n"
   ]
  },
  {
   "cell_type": "code",
   "execution_count": 62,
   "metadata": {},
   "outputs": [
    {
     "data": {
      "text/plain": [
       "CountVectorizer(analyzer='char', binary=False, decode_error='strict',\n",
       "        dtype=<class 'numpy.int64'>, encoding='utf-8', input='content',\n",
       "        lowercase=True, max_df=1.0, max_features=None, min_df=1,\n",
       "        ngram_range=(1, 1), preprocessor=None, stop_words=None,\n",
       "        strip_accents=None, token_pattern='(?u)\\\\b\\\\w\\\\w+\\\\b',\n",
       "        tokenizer=None, vocabulary=None)"
      ]
     },
     "execution_count": 62,
     "metadata": {},
     "output_type": "execute_result"
    }
   ],
   "source": [
    "vectorizer.fit(corpus)\n"
   ]
  },
  {
   "cell_type": "code",
   "execution_count": 63,
   "metadata": {},
   "outputs": [],
   "source": [
    "x = vectorizer.transform(corpus)\n"
   ]
  },
  {
   "cell_type": "code",
   "execution_count": 64,
   "metadata": {},
   "outputs": [
    {
     "data": {
      "text/plain": [
       "(20132, 71)"
      ]
     },
     "execution_count": 64,
     "metadata": {},
     "output_type": "execute_result"
    }
   ],
   "source": [
    "x.shape"
   ]
  },
  {
   "cell_type": "code",
   "execution_count": 15,
   "metadata": {},
   "outputs": [
    {
     "data": {
      "text/plain": [
       "20132"
      ]
     },
     "execution_count": 15,
     "metadata": {},
     "output_type": "execute_result"
    }
   ],
   "source": [
    "len(y)"
   ]
  },
  {
   "cell_type": "code",
   "execution_count": 71,
   "metadata": {},
   "outputs": [
    {
     "name": "stdout",
     "output_type": "stream",
     "text": [
      "_________________________________________________________________\n",
      "Layer (type)                 Output Shape              Param #   \n",
      "=================================================================\n",
      "dense_9 (Dense)              (None, 80)                5760      \n",
      "_________________________________________________________________\n",
      "dropout_4 (Dropout)          (None, 80)                0         \n",
      "_________________________________________________________________\n",
      "dense_10 (Dense)             (None, 50)                4050      \n",
      "_________________________________________________________________\n",
      "dropout_5 (Dropout)          (None, 50)                0         \n",
      "_________________________________________________________________\n",
      "dense_11 (Dense)             (None, 3)                 153       \n",
      "=================================================================\n",
      "Total params: 9,963\n",
      "Trainable params: 9,963\n",
      "Non-trainable params: 0\n",
      "_________________________________________________________________\n"
     ]
    }
   ],
   "source": [
    "model = Sequential()\n",
    "model.add(Dense(80,activation='relu', input_dim=71))\n",
    "model.add(Dropout(0.5))\n",
    "model.add(Dense(50,activation='relu'))\n",
    "model.add(Dropout(0.5))\n",
    "\n",
    "model.add(Dense(3, activation='softmax'))\n",
    "\n",
    "model.summary()\n",
    "model.compile(loss='binary_crossentropy', optimizer='Adam', metrics=['accuracy'])\n"
   ]
  },
  {
   "cell_type": "code",
   "execution_count": 28,
   "metadata": {},
   "outputs": [
    {
     "ename": "AttributeError",
     "evalue": "'numpy.ndarray' object has no attribute 'to_dense'",
     "output_type": "error",
     "traceback": [
      "\u001b[1;31m---------------------------------------------------------------------------\u001b[0m",
      "\u001b[1;31mAttributeError\u001b[0m                            Traceback (most recent call last)",
      "\u001b[1;32m<ipython-input-28-a2e99706b477>\u001b[0m in \u001b[0;36m<module>\u001b[1;34m()\u001b[0m\n\u001b[1;32m----> 1\u001b[1;33m \u001b[0mX\u001b[0m \u001b[1;33m=\u001b[0m \u001b[0mnp\u001b[0m\u001b[1;33m.\u001b[0m\u001b[0marray\u001b[0m\u001b[1;33m(\u001b[0m\u001b[0mx\u001b[0m\u001b[1;33m)\u001b[0m\u001b[1;33m.\u001b[0m\u001b[0mto_dense\u001b[0m\u001b[1;33m(\u001b[0m\u001b[1;33m)\u001b[0m\u001b[1;33m\u001b[0m\u001b[0m\n\u001b[0m\u001b[0;32m      2\u001b[0m \u001b[0mY\u001b[0m \u001b[1;33m=\u001b[0m \u001b[0mnp\u001b[0m\u001b[1;33m.\u001b[0m\u001b[0marray\u001b[0m\u001b[1;33m(\u001b[0m\u001b[0my\u001b[0m\u001b[1;33m)\u001b[0m\u001b[1;33m\u001b[0m\u001b[0m\n",
      "\u001b[1;31mAttributeError\u001b[0m: 'numpy.ndarray' object has no attribute 'to_dense'"
     ]
    }
   ],
   "source": [
    "X = np.array(x)\n",
    "Y = np.array(y)\n",
    "\n"
   ]
  },
  {
   "cell_type": "code",
   "execution_count": 39,
   "metadata": {},
   "outputs": [
    {
     "data": {
      "text/plain": [
       "<20311x92 sparse matrix of type '<class 'numpy.float64'>'\n",
       "\twith 112117 stored elements in Compressed Sparse Row format>"
      ]
     },
     "execution_count": 39,
     "metadata": {},
     "output_type": "execute_result"
    }
   ],
   "source": [
    "x"
   ]
  },
  {
   "cell_type": "code",
   "execution_count": 75,
   "metadata": {},
   "outputs": [
    {
     "name": "stdout",
     "output_type": "stream",
     "text": [
      "Train on 14092 samples, validate on 6040 samples\n",
      "Epoch 1/10\n",
      "14092/14092 [==============================] - 5s 330us/step - loss: 0.4548 - acc: 0.7954 - val_loss: 0.4910 - val_acc: 0.7757\n",
      "Epoch 2/10\n",
      "14092/14092 [==============================] - 4s 302us/step - loss: 0.4556 - acc: 0.7934 - val_loss: 0.4918 - val_acc: 0.7719\n",
      "Epoch 3/10\n",
      "14092/14092 [==============================] - 4s 290us/step - loss: 0.4522 - acc: 0.7947 - val_loss: 0.4882 - val_acc: 0.7757\n",
      "Epoch 4/10\n",
      "14092/14092 [==============================] - 4s 307us/step - loss: 0.4509 - acc: 0.7955 - val_loss: 0.4892 - val_acc: 0.7736\n",
      "Epoch 5/10\n",
      "14092/14092 [==============================] - 5s 349us/step - loss: 0.4506 - acc: 0.7964 - val_loss: 0.4888 - val_acc: 0.7757\n",
      "Epoch 6/10\n",
      "14092/14092 [==============================] - 4s 298us/step - loss: 0.4481 - acc: 0.7989 - val_loss: 0.4898 - val_acc: 0.7734\n",
      "Epoch 7/10\n",
      "14092/14092 [==============================] - 4s 257us/step - loss: 0.4461 - acc: 0.7993 - val_loss: 0.4883 - val_acc: 0.7752\n",
      "Epoch 8/10\n",
      "14092/14092 [==============================] - 5s 336us/step - loss: 0.4457 - acc: 0.8015 - val_loss: 0.4939 - val_acc: 0.7761\n",
      "Epoch 9/10\n",
      "14092/14092 [==============================] - 5s 348us/step - loss: 0.4443 - acc: 0.8007 - val_loss: 0.4973 - val_acc: 0.7745\n",
      "Epoch 10/10\n",
      "14092/14092 [==============================] - 4s 253us/step - loss: 0.4455 - acc: 0.7994 - val_loss: 0.4978 - val_acc: 0.7710\n"
     ]
    },
    {
     "data": {
      "text/plain": [
       "<keras.callbacks.History at 0x25d377d5e10>"
      ]
     },
     "execution_count": 75,
     "metadata": {},
     "output_type": "execute_result"
    }
   ],
   "source": [
    "model.fit(x, Y, batch_size=16, epochs=10, validation_split=0.3)\n"
   ]
  },
  {
   "cell_type": "code",
   "execution_count": 83,
   "metadata": {},
   "outputs": [],
   "source": [
    "sentence = tok.wordtokenize('हाल के वर्षों में सत्ता के गलियारे से सड़क तक एक छात्र संघ के चुनाव को लेकर ऐसा संघर्ष देखने को नहीं मिला. लेकिन यह चुनाव प्रशांत किशोर ने कैसे अपने पक्ष में किया यह काफी रोचक रहा. इसे जानिए 10 प्रमुख पाइंट में-')"
   ]
  },
  {
   "cell_type": "code",
   "execution_count": 85,
   "metadata": {},
   "outputs": [
    {
     "name": "stdout",
     "output_type": "stream",
     "text": [
      "('हाल', 'm', array([[0.09274878, 0.7879021 , 0.11934915]], dtype=float32))\n",
      "('के', 'm', array([[0.04472945, 0.89106995, 0.06420058]], dtype=float32))\n",
      "('वर्षों', 'm', array([[0.02652642, 0.9483737 , 0.02509986]], dtype=float32))\n",
      "('में', 'm', array([[0.33366296, 0.4632969 , 0.20304014]], dtype=float32))\n",
      "('सत्ता', 'm', array([[0.14043865, 0.63898   , 0.22058131]], dtype=float32))\n",
      "('के', 'm', array([[0.04472945, 0.89106995, 0.06420058]], dtype=float32))\n",
      "('गलियारे', 'm', array([[0.07028367, 0.8030855 , 0.12663084]], dtype=float32))\n",
      "('से', 'm', array([[0.04921352, 0.85207444, 0.09871212]], dtype=float32))\n",
      "('सड़क', 'm', array([[0.07057218, 0.6290886 , 0.30033922]], dtype=float32))\n",
      "('तक', 'm', array([[0.2347364 , 0.5469405 , 0.21832307]], dtype=float32))\n",
      "('एक', 'm', array([[0.04920134, 0.8453986 , 0.10540006]], dtype=float32))\n",
      "('छात्र', 'm', array([[0.20489277, 0.6599359 , 0.13517141]], dtype=float32))\n",
      "('संघ', 'm', array([[0.0800533, 0.7222943, 0.1976524]], dtype=float32))\n",
      "('के', 'm', array([[0.04472945, 0.89106995, 0.06420058]], dtype=float32))\n",
      "('चुनाव', 'm', array([[0.05279115, 0.7914204 , 0.15578847]], dtype=float32))\n",
      "('को', 'm', array([[0.12123868, 0.7613778 , 0.11738347]], dtype=float32))\n",
      "('लेकर', 'm', array([[0.04021881, 0.7261014 , 0.23367977]], dtype=float32))\n",
      "('ऐसा', 'm', array([[0.06970991, 0.82558066, 0.10470951]], dtype=float32))\n",
      "('संघर्ष', 'm', array([[0.02546834, 0.71497387, 0.2595578 ]], dtype=float32))\n",
      "('देखने', 'm', array([[0.00179632, 0.74339354, 0.25481012]], dtype=float32))\n",
      "('को', 'm', array([[0.12123868, 0.7613778 , 0.11738347]], dtype=float32))\n",
      "('नहीं', 'f', array([[0.55698997, 0.26140156, 0.18160848]], dtype=float32))\n",
      "('मिला', 'm', array([[0.1303539 , 0.74635863, 0.12328751]], dtype=float32))\n",
      "('लेकिन', 'm', array([[0.04558346, 0.6734428 , 0.2809738 ]], dtype=float32))\n",
      "('यह', 'm', array([[0.07293683, 0.75864047, 0.16842273]], dtype=float32))\n",
      "('चुनाव', 'm', array([[0.05279115, 0.7914204 , 0.15578847]], dtype=float32))\n",
      "('प्रशांत', 'm', array([[0.26689938, 0.62268233, 0.11041827]], dtype=float32))\n",
      "('किशोर', 'm', array([[0.19151214, 0.7169829 , 0.09150493]], dtype=float32))\n",
      "('ने', 'm', array([[0.04410199, 0.7244729 , 0.23142508]], dtype=float32))\n",
      "('कैसे', 'm', array([[0.0296813 , 0.9192418 , 0.05107695]], dtype=float32))\n",
      "('अपने', 'm', array([[0.04171145, 0.80654055, 0.15174808]], dtype=float32))\n",
      "('पक्ष', 'm', array([[0.05476736, 0.78968775, 0.15554486]], dtype=float32))\n",
      "('में', 'm', array([[0.33366296, 0.4632969 , 0.20304014]], dtype=float32))\n",
      "('किया', 'm', array([[0.18474372, 0.5778857 , 0.23737057]], dtype=float32))\n",
      "('यह', 'm', array([[0.07293683, 0.75864047, 0.16842273]], dtype=float32))\n",
      "('काफी', 'm', array([[0.3199562 , 0.4998321 , 0.18021168]], dtype=float32))\n",
      "('रोचक', 'm', array([[0.04503868, 0.74411124, 0.21085006]], dtype=float32))\n",
      "('रहा', 'm', array([[0.09466751, 0.7701159 , 0.13521646]], dtype=float32))\n",
      "('इसे', 'm', array([[0.06346332, 0.8516628 , 0.08487376]], dtype=float32))\n",
      "('जानिए', 'm', array([[0.09202606, 0.74382365, 0.16415028]], dtype=float32))\n",
      "('10', 'm', array([[0.18533832, 0.6141362 , 0.20052545]], dtype=float32))\n",
      "('प्रमुख', 'm', array([[0.03092757, 0.84179574, 0.1272768 ]], dtype=float32))\n",
      "('पाइंट', 'm', array([[0.20474376, 0.71616584, 0.07909034]], dtype=float32))\n",
      "('में-', 'any', array([[0.299695  , 0.2765087 , 0.42379636]], dtype=float32))\n"
     ]
    }
   ],
   "source": [
    "for token in sentence:\n",
    "    a = model.predict(vectorizer.transform([token]))\n",
    "    print((token, genderdecode(a),a))\n"
   ]
  },
  {
   "cell_type": "code",
   "execution_count": null,
   "metadata": {},
   "outputs": [],
   "source": []
  }
 ],
 "metadata": {
  "kernelspec": {
   "display_name": "Python 3",
   "language": "python",
   "name": "python3"
  },
  "language_info": {
   "codemirror_mode": {
    "name": "ipython",
    "version": 3
   },
   "file_extension": ".py",
   "mimetype": "text/x-python",
   "name": "python",
   "nbconvert_exporter": "python",
   "pygments_lexer": "ipython3",
   "version": "3.6.5"
  }
 },
 "nbformat": 4,
 "nbformat_minor": 2
}
