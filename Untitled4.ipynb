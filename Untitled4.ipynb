{
 "cells": [
  {
   "cell_type": "code",
   "execution_count": 23,
   "metadata": {},
   "outputs": [],
   "source": [
    "import pickle\n",
    " \n",
    "with open('X_lstm', 'rb') as fp:\n",
    "    X_cnn = pickle.load(fp)\n",
    "with open('Y_lstm', 'rb') as fp:\n",
    "    Y_cnn = pickle.load(fp)\n",
    "a = set(list(set(\"ऀँंःऄअआइईउऊऋऌऍऎएऐऑऒओऔकखगघङचछजझञटठडढणतथदधनऩपफबभमयरऱलळऴवशषसहऺऻ़ऽािीुूृॄॅॆेैॉॊोौ्ॎॏॐ॒॑॓॔ॕॖॗक़ख़ग़ज़ड़ढ़फ़य़ॠॡॢॣ।॥॰ॱॲॳॴॵॶॷॸॹॺॻॼॽॾॿ-\")))\n",
    " \n",
    "split1 = int(len(Y_cnn)*0.8)\n",
    "X_train = X_cnn[:split1]\n",
    "Y_train = Y_cnn[:split1]\n",
    "X_test = X_cnn[split1:]\n",
    "Y_test = Y_cnn[split1:]\n",
    "from keras.models import Sequential\n",
    "from keras.layers import Dense, Dropout\n",
    "from keras.layers import Embedding\n",
    "from keras.layers import Conv1D, GlobalAveragePooling1D, MaxPooling1D\n",
    " \n",
    "max_features = len(a)+1\n"
   ]
  },
  {
   "cell_type": "code",
   "execution_count": 24,
   "metadata": {},
   "outputs": [
    {
     "name": "stdout",
     "output_type": "stream",
     "text": [
      "Train on 25872 samples, validate on 6468 samples\n",
      "Epoch 1/20\n",
      " - 2s - loss: 1.0331 - acc: 0.4953 - val_loss: 0.9804 - val_acc: 0.5135\n",
      "Epoch 2/20\n",
      " - 2s - loss: 0.9163 - acc: 0.5551 - val_loss: 0.8163 - val_acc: 0.6433\n",
      "Epoch 3/20\n",
      " - 2s - loss: 0.8185 - acc: 0.6411 - val_loss: 0.7735 - val_acc: 0.6664\n",
      "Epoch 4/20\n",
      " - 2s - loss: 0.7769 - acc: 0.6637 - val_loss: 0.7440 - val_acc: 0.6849\n",
      "Epoch 5/20\n",
      " - 2s - loss: 0.7478 - acc: 0.6839 - val_loss: 0.7191 - val_acc: 0.7007\n",
      "Epoch 6/20\n",
      " - 2s - loss: 0.7279 - acc: 0.6921 - val_loss: 0.7018 - val_acc: 0.7113\n",
      "Epoch 7/20\n",
      " - 2s - loss: 0.7178 - acc: 0.6989 - val_loss: 0.6927 - val_acc: 0.7113\n",
      "Epoch 8/20\n",
      " - 2s - loss: 0.7047 - acc: 0.7064 - val_loss: 0.6804 - val_acc: 0.7214\n",
      "Epoch 9/20\n",
      " - 3s - loss: 0.6936 - acc: 0.7112 - val_loss: 0.6747 - val_acc: 0.7180\n",
      "Epoch 10/20\n",
      " - 2s - loss: 0.6885 - acc: 0.7147 - val_loss: 0.6681 - val_acc: 0.7260\n",
      "Epoch 11/20\n",
      " - 2s - loss: 0.6789 - acc: 0.7192 - val_loss: 0.6627 - val_acc: 0.7282\n",
      "Epoch 12/20\n",
      " - 2s - loss: 0.6731 - acc: 0.7228 - val_loss: 0.6575 - val_acc: 0.7259\n",
      "Epoch 13/20\n",
      " - 2s - loss: 0.6666 - acc: 0.7220 - val_loss: 0.6552 - val_acc: 0.7277\n",
      "Epoch 14/20\n",
      " - 2s - loss: 0.6628 - acc: 0.7267 - val_loss: 0.6511 - val_acc: 0.7321\n",
      "Epoch 15/20\n",
      " - 3s - loss: 0.6583 - acc: 0.7278 - val_loss: 0.6529 - val_acc: 0.7263\n",
      "Epoch 16/20\n",
      " - 3s - loss: 0.6560 - acc: 0.7313 - val_loss: 0.6447 - val_acc: 0.7359\n",
      "Epoch 17/20\n",
      " - 2s - loss: 0.6512 - acc: 0.7330 - val_loss: 0.6477 - val_acc: 0.7291\n",
      "Epoch 18/20\n",
      " - 3s - loss: 0.6469 - acc: 0.7326 - val_loss: 0.6427 - val_acc: 0.7348\n",
      "Epoch 19/20\n",
      " - 3s - loss: 0.6444 - acc: 0.7344 - val_loss: 0.6437 - val_acc: 0.7364\n",
      "Epoch 20/20\n",
      " - 3s - loss: 0.6402 - acc: 0.7365 - val_loss: 0.6388 - val_acc: 0.7373\n"
     ]
    }
   ],
   "source": [
    "    model = Sequential()\n",
    "    model.add(Embedding(max_features, output_dim=18))\n",
    "    model.add(Conv1D(128, 3, activation='relu', input_shape=(18, 120)))\n",
    "    model.add(Conv1D(64, 3, activation='relu'))\n",
    "    model.add(MaxPooling1D(3))\n",
    "    model.add(GlobalAveragePooling1D())\n",
    "    model.add(Dropout(0.4))\n",
    "    model.add(Dense(3, activation='softmax'))\n",
    "\n",
    "    model.compile(loss='categorical_crossentropy',\n",
    "                  optimizer='adam',\n",
    "                  metrics=['accuracy'])\n",
    "    model.fit(X_train, Y_train, batch_size=512, validation_split = 0.2, epochs=20, verbose=2)\n",
    "    score = model.evaluate(X_test, Y_test, batch_size=16, verbose = 0)\n"
   ]
  },
  {
   "cell_type": "code",
   "execution_count": 25,
   "metadata": {},
   "outputs": [
    {
     "data": {
      "text/plain": [
       "[0.6468784984255557, 0.7389314865199109]"
      ]
     },
     "execution_count": 25,
     "metadata": {},
     "output_type": "execute_result"
    }
   ],
   "source": [
    "score"
   ]
  },
  {
   "cell_type": "code",
   "execution_count": 7,
   "metadata": {},
   "outputs": [],
   "source": [
    "predictions = model.predict(X_cnn, batch_size=16)"
   ]
  },
  {
   "cell_type": "code",
   "execution_count": 19,
   "metadata": {},
   "outputs": [],
   "source": [
    "from sklearn.metrics import confusion_matrix\n",
    "import numpy as np\n",
    "cm = confusion_matrix(Y_cnn.argmax(axis=1), predictions.argmax(axis=1))\n",
    "recall = np.diag(cm) / np.sum(cm, axis = 1)\n",
    "precision = np.diag(cm) / np.sum(cm, axis = 0)\n"
   ]
  },
  {
   "cell_type": "code",
   "execution_count": 34,
   "metadata": {},
   "outputs": [
    {
     "data": {
      "text/plain": [
       "(array([0, 1, 2], dtype=int64), array([10108,  8449, 21865], dtype=int64))"
      ]
     },
     "execution_count": 34,
     "metadata": {},
     "output_type": "execute_result"
    }
   ],
   "source": [
    "np.unique(predictions.argmax(axis=1),return_counts=True)"
   ]
  },
  {
   "cell_type": "code",
   "execution_count": 36,
   "metadata": {},
   "outputs": [
    {
     "data": {
      "text/plain": [
       "(array([0, 1, 2], dtype=int64), array([ 9541, 10603, 20282], dtype=int64))"
      ]
     },
     "execution_count": 36,
     "metadata": {},
     "output_type": "execute_result"
    }
   ],
   "source": [
    "np.unique(Y_cnn.argmax(axis=1),return_counts=True)"
   ]
  },
  {
   "cell_type": "code",
   "execution_count": 29,
   "metadata": {},
   "outputs": [
    {
     "data": {
      "text/plain": [
       "1.2735592381894634"
      ]
     },
     "execution_count": 29,
     "metadata": {},
     "output_type": "execute_result"
    }
   ],
   "source": [
    "np.mean(Y_test.argmax(axis=1))"
   ]
  },
  {
   "cell_type": "code",
   "execution_count": null,
   "metadata": {},
   "outputs": [],
   "source": []
  }
 ],
 "metadata": {
  "kernelspec": {
   "display_name": "Python 3",
   "language": "python",
   "name": "python3"
  },
  "language_info": {
   "codemirror_mode": {
    "name": "ipython",
    "version": 3
   },
   "file_extension": ".py",
   "mimetype": "text/x-python",
   "name": "python",
   "nbconvert_exporter": "python",
   "pygments_lexer": "ipython3",
   "version": "3.6.5"
  }
 },
 "nbformat": 4,
 "nbformat_minor": 2
}
