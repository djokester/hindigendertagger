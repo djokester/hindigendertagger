{
 "cells": [
  {
   "cell_type": "markdown",
   "metadata": {},
   "source": [
    "Declare valid hindi literals"
   ]
  },
  {
   "cell_type": "code",
   "execution_count": 1,
   "metadata": {},
   "outputs": [],
   "source": [
    "a = list(set(list(\"ऀँंःऄअआइईउऊऋऌऍऎएऐऑऒओऔकखगघङचछजझञटठडढणतथदधनऩपफबभमयरऱलळऴवशषसहऺऻ़ऽािीुूृॄॅॆेैॉॊोौ्ॎॏॐ॒॑॓॔ॕॖॗक़ख़ग़ज़ड़ढ़फ़य़ॠॡॢॣ।॥॰ॱॲॳॴॵॶॷॸॹॺॻॼॽॾॿ-\")))\n"
   ]
  },
  {
   "cell_type": "markdown",
   "metadata": {},
   "source": [
    "Parse Hindimonocop05.export file and create a list"
   ]
  },
  {
   "cell_type": "code",
   "execution_count": 196,
   "metadata": {},
   "outputs": [
    {
     "data": {
      "application/vnd.jupyter.widget-view+json": {
       "model_id": "efbea56301ed4d0dbb30fe8cf1a12e40",
       "version_major": 2,
       "version_minor": 0
      },
      "text/plain": [
       "HBox(children=(IntProgress(value=1, bar_style='info', max=1), HTML(value='')))"
      ]
     },
     "metadata": {},
     "output_type": "display_data"
    },
    {
     "name": "stdout",
     "output_type": "stream",
     "text": [
      "\n"
     ]
    }
   ],
   "source": [
    "from tqdm import tqdm_notebook\n",
    "\n",
    "genderList = set()\n",
    "ind = 0\n",
    "with open('hindmonocorp05.export',encoding='utf-8') as infile:\n",
    "    for line in tqdm_notebook(infile):\n",
    "        #print(line.replace('\\t',' ').split(' '))\n",
    "        cs = line.replace('\\t',' ').split(' ')\n",
    "        ind = ind + 1\n",
    "        for c in cs:\n",
    "            if c[0] in a:\n",
    "                d = c.split('|')\n",
    "                e = d[2].split('.')\n",
    "                if len(e) < 3:\n",
    "                    continue\n",
    "                if e[2] == 'm':\n",
    "                    genderList.add((d[0],'m'))\n",
    "                elif e[2] == 'f':\n",
    "                    genderList.add((d[0],'f'))\n",
    "                elif e[2] == 'any':\n",
    "                    genderList.add((d[0],'any'))\n",
    "                else:\n",
    "                    genderList.add((d[0],'none'))\n"
   ]
  },
  {
   "cell_type": "code",
   "execution_count": 197,
   "metadata": {},
   "outputs": [],
   "source": [
    "genderList = list(genderList)"
   ]
  },
  {
   "cell_type": "code",
   "execution_count": 199,
   "metadata": {},
   "outputs": [],
   "source": [
    "genderList.sort()"
   ]
  },
  {
   "cell_type": "code",
   "execution_count": 200,
   "metadata": {},
   "outputs": [],
   "source": [
    "genderListCleared = []\n",
    "for item in genderList:\n",
    "    exit = False\n",
    "    for ch in item[0]:\n",
    "        if ch not in a:\n",
    "            exit = True\n",
    "    if exit:\n",
    "        continue\n",
    "    genderListCleared.append(item)"
   ]
  },
  {
   "cell_type": "markdown",
   "metadata": {},
   "source": [
    "Sort conflicts in the hindimonocorp by giving none higher priority and then any"
   ]
  },
  {
   "cell_type": "code",
   "execution_count": 201,
   "metadata": {},
   "outputs": [],
   "source": [
    "for ind in range(0, len(genderListCleared)-1):\n",
    "    if genderListCleared[ind][0] == genderListCleared[ind+1][0]:\n",
    "        if genderListCleared[ind][0]  == 'none' or genderListCleared[ind][1]  == 'none' :\n",
    "            genderListCleared[ind] = genderListCleared[ind][0], 'none'\n",
    "            genderListCleared[ind+1] = genderListCleared[ind][0], 'none'\n",
    "        else:\n",
    "            genderListCleared[ind] = genderListCleared[ind][0], 'any'\n",
    "            genderListCleared[ind+1] = genderListCleared[ind][0], 'any'\n"
   ]
  },
  {
   "cell_type": "code",
   "execution_count": 202,
   "metadata": {},
   "outputs": [
    {
     "data": {
      "text/plain": [
       "(290872, 284250)"
      ]
     },
     "execution_count": 202,
     "metadata": {},
     "output_type": "execute_result"
    }
   ],
   "source": [
    "len(genderListCleared),len(set(genderListCleared))"
   ]
  },
  {
   "cell_type": "markdown",
   "metadata": {},
   "source": [
    "Remove duplicates"
   ]
  },
  {
   "cell_type": "code",
   "execution_count": 203,
   "metadata": {},
   "outputs": [],
   "source": [
    "genderListCleared = list(set(genderListCleared))"
   ]
  },
  {
   "cell_type": "code",
   "execution_count": 206,
   "metadata": {},
   "outputs": [],
   "source": [
    "mCount = 0\n",
    "fCount = 0\n",
    "nCount = 0\n",
    "for item in genderListCleared:\n",
    "    if item[1] == 'm':\n",
    "        mCount+=1\n",
    "    elif item[1] == 'f':\n",
    "        fCount+=1\n",
    "    elif item[1] == 'none':\n",
    "        nCount+=1"
   ]
  },
  {
   "cell_type": "code",
   "execution_count": 207,
   "metadata": {},
   "outputs": [
    {
     "data": {
      "text/plain": [
       "(17803, 9695, 243852, 12900)"
      ]
     },
     "execution_count": 207,
     "metadata": {},
     "output_type": "execute_result"
    }
   ],
   "source": [
    "mCount,fCount,nCount,len(genderListCleared)-mCount-fCount-nCount"
   ]
  },
  {
   "cell_type": "markdown",
   "metadata": {},
   "source": [
    "Store data of Hindimonocorp"
   ]
  },
  {
   "cell_type": "code",
   "execution_count": 232,
   "metadata": {},
   "outputs": [],
   "source": [
    "with open('genderListCleared', 'wb') as fp:\n",
    "    pickle.dump(genderListCleared, fp)\n"
   ]
  },
  {
   "cell_type": "code",
   "execution_count": 209,
   "metadata": {},
   "outputs": [],
   "source": [
    "genderListNoNone= []\n",
    "for item in genderListCleared:\n",
    "    if item[1] == 'm':\n",
    "        genderListNoNone.append(item)\n",
    "    elif item[1] == 'f':\n",
    "        genderListNoNone.append(item)\n",
    "    elif item[1] == 'any':\n",
    "        genderListNoNone.append(item)\n"
   ]
  },
  {
   "cell_type": "markdown",
   "metadata": {},
   "source": [
    "Remove none objects and store"
   ]
  },
  {
   "cell_type": "code",
   "execution_count": 233,
   "metadata": {},
   "outputs": [],
   "source": [
    "with open('genderListNoNone', 'wb') as fp:\n",
    "    pickle.dump(genderListNoNone, fp)\n"
   ]
  },
  {
   "cell_type": "code",
   "execution_count": 10,
   "metadata": {},
   "outputs": [],
   "source": [
    "noneWords = list(set(genderListCleared)-set(genderListNoNone))"
   ]
  },
  {
   "cell_type": "code",
   "execution_count": 29,
   "metadata": {},
   "outputs": [],
   "source": [
    "noneWords = set([x[0] for x in noneWords])"
   ]
  },
  {
   "cell_type": "markdown",
   "metadata": {},
   "source": [
    "Import data from hindi dependency tree. Mark objects that have more than one gender tag as any"
   ]
  },
  {
   "cell_type": "code",
   "execution_count": 5,
   "metadata": {},
   "outputs": [
    {
     "name": "stderr",
     "output_type": "stream",
     "text": [
      "C:\\ProgramData\\Anaconda3\\lib\\site-packages\\h5py\\__init__.py:36: FutureWarning: Conversion of the second argument of issubdtype from `float` to `np.floating` is deprecated. In future, it will be treated as `np.float64 == np.dtype(float).type`.\n",
      "  from ._conv import register_converters as _register_converters\n",
      "Using TensorFlow backend.\n"
     ]
    }
   ],
   "source": [
    "import lingatagger.genderlist as gndrlist\n",
    "import lingatagger.tokenizer as tok\n",
    "from lingatagger.tagger import numericTagger\n",
    "\n",
    "genders2 = gndrlist.drawlist()\n",
    "genderList2 = []\n",
    "for i in genders2:\n",
    "    x = i.split(\"\\t\")\n",
    "    if type(numericTagger(x[0])[0]) != tuple:\n",
    "        count = 0\n",
    "        for ch in list(x[0]):\n",
    "            if ch not in a:\n",
    "                count+=1\n",
    "        if count == 0:\n",
    "            if len(x)>=3:\n",
    "                genderList2.append((x[0],'any'))\n",
    "            else:\n",
    "                genderList2.append((x[0],x[1]))\n"
   ]
  },
  {
   "cell_type": "code",
   "execution_count": 15,
   "metadata": {},
   "outputs": [],
   "source": [
    "genderList2.sort()\n",
    "genderList2Cleared = genderList2\n",
    "for ind in range(0, len(genderList2Cleared)-1):\n",
    "    if genderList2Cleared[ind][0] == genderList2Cleared[ind+1][0]:\n",
    "        genderList2Cleared[ind] = genderList2Cleared[ind][0], 'any'\n",
    "        genderList2Cleared[ind+1] = genderList2Cleared[ind][0], 'any'"
   ]
  },
  {
   "cell_type": "code",
   "execution_count": 16,
   "metadata": {},
   "outputs": [],
   "source": [
    "genderList2Cleared = list(set(genderList2Cleared))"
   ]
  },
  {
   "cell_type": "code",
   "execution_count": 17,
   "metadata": {},
   "outputs": [],
   "source": [
    "mCount2 = 0\n",
    "fCount2 = 0\n",
    "for item in genderList2Cleared:\n",
    "    if item[1] == 'm':\n",
    "        mCount2+=1\n",
    "    elif item[1] == 'f':\n",
    "        fCount2+=1"
   ]
  },
  {
   "cell_type": "code",
   "execution_count": 18,
   "metadata": {},
   "outputs": [
    {
     "data": {
      "text/plain": [
       "(10636, 3892, 5604)"
      ]
     },
     "execution_count": 18,
     "metadata": {},
     "output_type": "execute_result"
    }
   ],
   "source": [
    "mCount2,fCount2,len(genderList2Cleared)-mCount2-fCount2"
   ]
  },
  {
   "cell_type": "markdown",
   "metadata": {},
   "source": [
    "Save hindi dependency tree corpus after clearing duplicates"
   ]
  },
  {
   "cell_type": "code",
   "execution_count": 19,
   "metadata": {},
   "outputs": [],
   "source": [
    "with open('genderList2Cleared', 'wb') as fp:\n",
    "    pickle.dump(genderList2Cleared, fp)\n"
   ]
  },
  {
   "cell_type": "markdown",
   "metadata": {},
   "source": [
    "Remove words that are marked as any in hindi dependency tree but marked as none from hindi mono corp"
   ]
  },
  {
   "cell_type": "code",
   "execution_count": 30,
   "metadata": {},
   "outputs": [],
   "source": [
    "genderList2Matched = []\n",
    "for item in genderList2Cleared:\n",
    "    if item[0] in noneWords:\n",
    "        continue\n",
    "    genderList2Matched.append(item)"
   ]
  },
  {
   "cell_type": "code",
   "execution_count": 8,
   "metadata": {},
   "outputs": [
    {
     "data": {
      "text/plain": [
       "10"
      ]
     },
     "execution_count": 8,
     "metadata": {},
     "output_type": "execute_result"
    }
   ],
   "source": [
    "len(genderList2Cleared)-len(genderList2Matched)"
   ]
  },
  {
   "cell_type": "markdown",
   "metadata": {},
   "source": [
    "Save this new list"
   ]
  },
  {
   "cell_type": "code",
   "execution_count": 35,
   "metadata": {},
   "outputs": [],
   "source": [
    "with open('genderList2Matched', 'wb') as fp:\n",
    "    pickle.dump(genderList2Matched, fp)\n"
   ]
  },
  {
   "cell_type": "markdown",
   "metadata": {},
   "source": [
    "Merge the two sets and create a new corpus with 60:20:20 split for train:validation:test"
   ]
  },
  {
   "cell_type": "code",
   "execution_count": 13,
   "metadata": {},
   "outputs": [],
   "source": [
    "mergedList = []\n",
    "for item in genderList2Matched:\n",
    "    mergedList.append((item[0], item[1]))\n",
    "for item in genderListNoNone:\n",
    "    mergedList.append((item[0], item[1]))\n",
    "mergedList.sort()"
   ]
  },
  {
   "cell_type": "markdown",
   "metadata": {},
   "source": [
    "Delete conflicts"
   ]
  },
  {
   "cell_type": "code",
   "execution_count": 14,
   "metadata": {},
   "outputs": [],
   "source": [
    "mergedListCopy = []\n",
    "\n",
    "for ind in range(1, len(mergedList)-1):\n",
    "    if mergedList[ind][0] == mergedList[ind+1][0]:\n",
    "        continue\n",
    "    if mergedList[ind-1][0] == mergedList[ind][0]:\n",
    "        continue\n",
    "    mergedListCopy.append(mergedList[ind])\n",
    "\n",
    "mergedList = mergedListCopy"
   ]
  },
  {
   "cell_type": "code",
   "execution_count": 12,
   "metadata": {},
   "outputs": [],
   "source": [
    "with open('mergedList', 'wb') as fp:\n",
    "    pickle.dump(mergedList, fp)\n"
   ]
  },
  {
   "cell_type": "markdown",
   "metadata": {},
   "source": [
    "Define encoding function and create train and test sets"
   ]
  },
  {
   "cell_type": "code",
   "execution_count": 10,
   "metadata": {},
   "outputs": [],
   "source": [
    "import numpy as np\n",
    "\n",
    "def encodex(text):\n",
    "    s = list(text)\n",
    "    \n",
    "    indices = []\n",
    "    for i in s:\n",
    "        indices.append(a.index(i))\n",
    "    encoded = np.zeros([18, len(a)+1], dtype=\"int\")\n",
    "    #print(len(a)+1)\n",
    "    k = 0\n",
    "    for i in indices:\n",
    "        encoded[k][i] = 1\n",
    "        k = k + 1\n",
    "    for i in range(18-len(list(s))):\n",
    "        encoded[k+i][len(a)] = 1\n",
    "    return encoded\n",
    "\n",
    "def encodey(text):\n",
    "    if text == \"f\":\n",
    "        return [1,0,0]\n",
    "    elif text == \"m\":\n",
    "        return [0,0,1]\n",
    "\n",
    "    else:\n",
    "        return [0,1,0] \n",
    "\n",
    "def genderdecode(genderTag):\n",
    "    \"\"\"\n",
    "    one-hot decoding for the gender tag predicted by the classfier\n",
    "    Dimension = 2.\n",
    "    \"\"\"\n",
    "    genderTag = list(genderTag[0])\n",
    "    index = genderTag.index(heapq.nlargest(1, genderTag)[0])\n",
    "    if index == 0:\n",
    "        return 'f'\n",
    "    if index == 2:\n",
    "        return 'm'\n",
    "    if index == 1:\n",
    "        return 'any'\n"
   ]
  },
  {
   "cell_type": "code",
   "execution_count": 11,
   "metadata": {},
   "outputs": [],
   "source": [
    "\n",
    "x = []\n",
    "y = []\n",
    "for i in mergedList:\n",
    "    if len(i[0]) > 18:\n",
    "        continue\n",
    "    x.append(encodex(i[0]))\n",
    "    y.append(encodey(i[1]))\n",
    "\n",
    "    "
   ]
  },
  {
   "cell_type": "code",
   "execution_count": 24,
   "metadata": {},
   "outputs": [
    {
     "data": {
      "text/plain": [
       "array([[1, 0, 0],\n",
       "       [0, 1, 0],\n",
       "       [0, 1, 0],\n",
       "       ...,\n",
       "       [0, 0, 1],\n",
       "       [0, 0, 1],\n",
       "       [0, 0, 1]])"
      ]
     },
     "execution_count": 24,
     "metadata": {},
     "output_type": "execute_result"
    }
   ],
   "source": [
    "X_cnn = np.array(x)\n",
    "Y_cnn = np.array(y)\n",
    "order = np.random.permutation(X_cnn.shape[0])\n",
    "np.take(X_cnn,order,axis=0,out=X_cnn)\n",
    "np.take(Y_cnn,order,axis=0,out=Y_cnn)\n"
   ]
  },
  {
   "cell_type": "markdown",
   "metadata": {},
   "source": [
    "Save train and test set for use in LSTM"
   ]
  },
  {
   "cell_type": "code",
   "execution_count": 27,
   "metadata": {},
   "outputs": [],
   "source": [
    "with open('X_cnn', 'wb') as fp:\n",
    "    pickle.dump(X_cnn, fp)\n",
    "\n",
    "with open('Y_cnn', 'wb') as fp:\n",
    "    pickle.dump(Y_cnn, fp)"
   ]
  },
  {
   "cell_type": "code",
   "execution_count": 25,
   "metadata": {},
   "outputs": [
    {
     "data": {
      "text/plain": [
       "40422"
      ]
     },
     "execution_count": 25,
     "metadata": {},
     "output_type": "execute_result"
    }
   ],
   "source": [
    "len(X_cnn)"
   ]
  },
  {
   "cell_type": "code",
   "execution_count": 26,
   "metadata": {},
   "outputs": [
    {
     "data": {
      "text/plain": [
       "(40422, 18, 120)"
      ]
     },
     "execution_count": 26,
     "metadata": {},
     "output_type": "execute_result"
    }
   ],
   "source": [
    "X_cnn.shape"
   ]
  },
  {
   "cell_type": "code",
   "execution_count": null,
   "metadata": {},
   "outputs": [],
   "source": []
  }
 ],
 "metadata": {
  "kernelspec": {
   "display_name": "Python 3",
   "language": "python",
   "name": "python3"
  },
  "language_info": {
   "codemirror_mode": {
    "name": "ipython",
    "version": 3
   },
   "file_extension": ".py",
   "mimetype": "text/x-python",
   "name": "python",
   "nbconvert_exporter": "python",
   "pygments_lexer": "ipython3",
   "version": "3.6.5"
  }
 },
 "nbformat": 4,
 "nbformat_minor": 2
}
